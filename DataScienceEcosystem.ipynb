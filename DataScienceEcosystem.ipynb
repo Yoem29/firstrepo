{
 "cells": [
  {
   "cell_type": "markdown",
   "id": "5dc79900",
   "metadata": {},
   "source": [
    "# Data Science Tools and Ecosystems"
   ]
  },
  {
   "cell_type": "markdown",
   "id": "9588618f",
   "metadata": {},
   "source": [
    "In this notebook, Data Science Tools and Ecosytems are summarized."
   ]
  },
  {
   "cell_type": "markdown",
   "id": "74b08551",
   "metadata": {},
   "source": [
    "**Objectives:**\n",
    "\n",
    "+ List popular languages of Data Science\n",
    "+ List libraries for Data Science\n",
    "+ Create and use variables"
   ]
  },
  {
   "cell_type": "markdown",
   "id": "8a7f20c0",
   "metadata": {},
   "source": [
    "Some of the popular languages that Data Scientists use are:\n",
    "\n",
    "1. Python\n",
    "2. R\n",
    "3. SQL"
   ]
  },
  {
   "cell_type": "markdown",
   "id": "c4cc906e",
   "metadata": {},
   "source": [
    "Some of the commonly used libraries used by Data Scientists include:\n",
    "\n",
    "1. NumPy\n",
    "2. MatPlotLib\n",
    "3. SciPy"
   ]
  },
  {
   "cell_type": "markdown",
   "id": "cbfbd4b8",
   "metadata": {},
   "source": [
    "# Data Science Tools\n",
    "\n",
    "| Development Environment Tools|\n",
    "| ---- |\n",
    "| Jupyter Notebook |\n",
    "| R Studio |\n",
    "| Spyder |"
   ]
  },
  {
   "cell_type": "markdown",
   "id": "07b55415",
   "metadata": {},
   "source": [
    "### Below are a few examples of evaluating arithmetic expressions in Python"
   ]
  },
  {
   "cell_type": "code",
   "execution_count": 1,
   "id": "6ce8ee7b",
   "metadata": {},
   "outputs": [
    {
     "data": {
      "text/plain": [
       "17"
      ]
     },
     "execution_count": 1,
     "metadata": {},
     "output_type": "execute_result"
    }
   ],
   "source": [
    "# This is a simple arithmetic expression to multiply then add integers\n",
    "(3*4)+5"
   ]
  },
  {
   "cell_type": "code",
   "execution_count": 2,
   "id": "c2e4efe4",
   "metadata": {},
   "outputs": [
    {
     "name": "stdout",
     "output_type": "stream",
     "text": [
      "3.3333333333333335\n"
     ]
    }
   ],
   "source": [
    "# This will convert 200 minutes to hours by dividing by 60.\n",
    "minutes = 200\n",
    "hours = minutes/60\n",
    "\n",
    "print(hours)"
   ]
  },
  {
   "cell_type": "markdown",
   "id": "4b04cd4b",
   "metadata": {},
   "source": [
    "## Author\n",
    "Emre Yolcuoglu"
   ]
  },
  {
   "cell_type": "code",
   "execution_count": null,
   "id": "90894db5",
   "metadata": {},
   "outputs": [],
   "source": []
  }
 ],
 "metadata": {
  "kernelspec": {
   "display_name": "Python 3 (ipykernel)",
   "language": "python",
   "name": "python3"
  },
  "language_info": {
   "codemirror_mode": {
    "name": "ipython",
    "version": 3
   },
   "file_extension": ".py",
   "mimetype": "text/x-python",
   "name": "python",
   "nbconvert_exporter": "python",
   "pygments_lexer": "ipython3",
   "version": "3.11.7"
  }
 },
 "nbformat": 4,
 "nbformat_minor": 5
}
